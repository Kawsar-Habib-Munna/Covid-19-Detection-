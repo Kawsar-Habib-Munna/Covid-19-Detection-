{
  "nbformat": 4,
  "nbformat_minor": 0,
  "metadata": {
    "colab": {
      "provenance": [],
      "authorship_tag": "ABX9TyNMHJgzfOqWDySePyq54w0l",
      "include_colab_link": true
    },
    "kernelspec": {
      "name": "python3",
      "display_name": "Python 3"
    },
    "language_info": {
      "name": "python"
    }
  },
  "cells": [
    {
      "cell_type": "markdown",
      "metadata": {
        "id": "view-in-github",
        "colab_type": "text"
      },
      "source": [
        "<a href=\"https://colab.research.google.com/github/KawsarMU47/Covid-19-Detection-/blob/main/ML_Lab(Covid_19_Detection).ipynb\" target=\"_parent\"><img src=\"https://colab.research.google.com/assets/colab-badge.svg\" alt=\"Open In Colab\"/></a>"
      ]
    },
    {
      "cell_type": "code",
      "execution_count": null,
      "metadata": {
        "colab": {
          "base_uri": "https://localhost:8080/"
        },
        "id": "pWd_xfTQeYFM",
        "outputId": "8fdf7f6b-1d4d-4e51-c83e-974abba86c61"
      },
      "outputs": [
        {
          "output_type": "stream",
          "name": "stdout",
          "text": [
            "Mounted at /content/gdrive\n"
          ]
        }
      ],
      "source": [
        "from google.colab import drive\n",
        "drive.mount('/content/gdrive')"
      ]
    },
    {
      "cell_type": "code",
      "source": [
        "!ls gdrive/MyDrive"
      ],
      "metadata": {
        "colab": {
          "base_uri": "https://localhost:8080/"
        },
        "id": "tDa1nkDYesJI",
        "outputId": "7a937a94-c35d-4a54-bdf8-1919d660efc7"
      },
      "execution_count": null,
      "outputs": [
        {
          "output_type": "stream",
          "name": "stdout",
          "text": [
            " archive.zip\t\t\t        HigherMath.xlsx\n",
            "'Ch3. Agile SW Dev.pptx'\t       'Metropolitan University'\n",
            "'Ch4 Req Eng.pptx'\t\t       'ML Lab(Covid 19 Detection).ipynb'\n",
            "'Ch5 System modeling.pptx'\t        Project200\n",
            "'Ch6 Architectural design.pptx'         Untitled0.ipynb\n",
            "'Ch7 Implementation.pptx'\t        Untitled1.ipynb\n",
            " Ch8.Testing.pptx\t\t        Untitled2.ipynb\n",
            "'Ch9 Evolution.pptx'\t\t        Untitled3.ipynb\n",
            " Classroom\t\t\t        Untitled4.ipynb\n",
            "'Colab Notebooks'\t\t        Untitled5.ipynb\n",
            " CPI_lecture.gdoc\t\t        Untitled6.ipynb\n",
            " DOC-20220908-WA0006.\t\t        Untitled8.ipynb\n",
            " f716b62091304c432a44c981363416a9.pdf  'Untitled spreadsheet.gsheet'\n",
            " HigherMath.gsheet\n"
          ]
        }
      ]
    },
    {
      "cell_type": "code",
      "source": [
        "!unzip gdrive/MyDrive/archive.zip\n"
      ],
      "metadata": {
        "colab": {
          "base_uri": "https://localhost:8080/"
        },
        "id": "sHMdwfPveupo",
        "outputId": "4b4458f0-dec2-4f91-9ef2-afd33d099220"
      },
      "execution_count": null,
      "outputs": [
        {
          "output_type": "stream",
          "name": "stdout",
          "text": [
            "Archive:  gdrive/MyDrive/archive.zip\n",
            "  inflating: Dataset/Prediction/NORMAL2-IM-0338-0001.jpeg  \n",
            "  inflating: Dataset/Prediction/NORMAL2-IM-0339-0001.jpeg  \n",
            "  inflating: Dataset/Prediction/NORMAL2-IM-0340-0001.jpeg  \n",
            "  inflating: Dataset/Prediction/NORMAL2-IM-0341-0001.jpeg  \n",
            "  inflating: Dataset/Prediction/NORMAL2-IM-0352-0001.jpeg  \n",
            "  inflating: Dataset/Prediction/NORMAL2-IM-0353-0001.jpeg  \n",
            "  inflating: Dataset/Prediction/NORMAL2-IM-0354-0001.jpeg  \n",
            "  inflating: Dataset/Prediction/NORMAL2-IM-0357-0001.jpeg  \n",
            "  inflating: Dataset/Prediction/NORMAL2-IM-0370-0001.jpeg  \n",
            "  inflating: Dataset/Prediction/NORMAL2-IM-0372-0001.jpeg  \n",
            "  inflating: Dataset/Prediction/NORMAL2-IM-0373-0001.jpeg  \n",
            "  inflating: Dataset/Prediction/NORMAL2-IM-0374-0001.jpeg  \n",
            "  inflating: Dataset/Prediction/SARS-10.1148rg.242035193-g04mr34g0-Fig8a-day0.jpeg  \n",
            "  inflating: Dataset/Prediction/SARS-10.1148rg.242035193-g04mr34g0-Fig8b-day5.jpeg  \n",
            "  inflating: Dataset/Prediction/SARS-10.1148rg.242035193-g04mr34g0-Fig8c-day10.jpeg  \n",
            "  inflating: Dataset/Prediction/SARS-10.1148rg.242035193-g04mr34g04a-Fig4a-day7.jpeg  \n",
            "  inflating: Dataset/Prediction/SARS-10.1148rg.242035193-g04mr34g04b-Fig4b-day12.jpeg  \n",
            "  inflating: Dataset/Prediction/SARS-10.1148rg.242035193-g04mr34g05x-Fig5-day9.jpeg  \n",
            "  inflating: Dataset/Prediction/ryct.2020200028.fig1a.jpeg  \n",
            "  inflating: Dataset/Prediction/ryct.2020200034.fig2.jpeg  \n",
            "  inflating: Dataset/Prediction/ryct.2020200034.fig5-day0.jpeg  \n",
            "  inflating: Dataset/Prediction/ryct.2020200034.fig5-day4.jpeg  \n",
            "  inflating: Dataset/Prediction/ryct.2020200034.fig5-day7.jpeg  \n",
            "  inflating: Dataset/Train/Covid/01E392EE-69F9-4E33-BFCE-E5C968654078.jpeg  \n",
            "  inflating: Dataset/Train/Covid/03BF7561-A9BA-4C3C-B8A0-D3E585F73F3C.jpeg  \n",
            "  inflating: Dataset/Train/Covid/1-s2.0-S0140673620303706-fx1_lrg.jpg  \n",
            "  inflating: Dataset/Train/Covid/1-s2.0-S0929664620300449-gr2_lrg-a.jpg  \n",
            "  inflating: Dataset/Train/Covid/1-s2.0-S0929664620300449-gr2_lrg-b.jpg  \n",
            "  inflating: Dataset/Train/Covid/1-s2.0-S0929664620300449-gr2_lrg-c.jpg  \n",
            "  inflating: Dataset/Train/Covid/1-s2.0-S0929664620300449-gr2_lrg-d.jpg  \n",
            "  inflating: Dataset/Train/Covid/1-s2.0-S1684118220300608-main.pdf-001.jpg  \n",
            "  inflating: Dataset/Train/Covid/1-s2.0-S1684118220300608-main.pdf-002.jpg  \n",
            "  inflating: Dataset/Train/Covid/1-s2.0-S1684118220300682-main.pdf-002-a1.png  \n",
            "  inflating: Dataset/Train/Covid/1-s2.0-S1684118220300682-main.pdf-002-a2.png  \n",
            "  inflating: Dataset/Train/Covid/1-s2.0-S1684118220300682-main.pdf-003-b1.png  \n",
            "  inflating: Dataset/Train/Covid/1-s2.0-S1684118220300682-main.pdf-003-b2.png  \n",
            "  inflating: Dataset/Train/Covid/1.CXRCTThoraximagesofCOVID-19fromSingapore.pdf-000-fig1a.png  \n",
            "  inflating: Dataset/Train/Covid/1.CXRCTThoraximagesofCOVID-19fromSingapore.pdf-000-fig1b.png  \n",
            "  inflating: Dataset/Train/Covid/1.CXRCTThoraximagesofCOVID-19fromSingapore.pdf-001-fig2a.png  \n",
            "  inflating: Dataset/Train/Covid/1.CXRCTThoraximagesofCOVID-19fromSingapore.pdf-001-fig2b.png  \n",
            "  inflating: Dataset/Train/Covid/1.CXRCTThoraximagesofCOVID-19fromSingapore.pdf-002-fig3a.png  \n",
            "  inflating: Dataset/Train/Covid/1.CXRCTThoraximagesofCOVID-19fromSingapore.pdf-002-fig3b.png  \n",
            "  inflating: Dataset/Train/Covid/1.CXRCTThoraximagesofCOVID-19fromSingapore.pdf-003-fig4a.png  \n",
            "  inflating: Dataset/Train/Covid/1.CXRCTThoraximagesofCOVID-19fromSingapore.pdf-003-fig4b.png  \n",
            "  inflating: Dataset/Train/Covid/1312A392-67A3-4EBF-9319-810CF6DA5EF6.jpeg  \n",
            "  inflating: Dataset/Train/Covid/16654_1_1.png  \n",
            "  inflating: Dataset/Train/Covid/16654_2_1.jpg  \n",
            "  inflating: Dataset/Train/Covid/16654_4_1.jpg  \n",
            "  inflating: Dataset/Train/Covid/16660_1_1.jpg  \n",
            "  inflating: Dataset/Train/Covid/16660_2_1.jpg  \n",
            "  inflating: Dataset/Train/Covid/16660_3_1.jpg  \n",
            "  inflating: Dataset/Train/Covid/16660_4_1.jpg  \n",
            "  inflating: Dataset/Train/Covid/16663_1_1.jpg  \n",
            "  inflating: Dataset/Train/Covid/16664_1_1.jpg  \n",
            "  inflating: Dataset/Train/Covid/16669_1_1.jpeg  \n",
            "  inflating: Dataset/Train/Covid/16669_3_1.jpeg  \n",
            "  inflating: Dataset/Train/Covid/16672_1_1.jpg  \n",
            "  inflating: Dataset/Train/Covid/16708_1_1.jpg  \n",
            "  inflating: Dataset/Train/Covid/16708_4_1.jpg  \n",
            "  inflating: Dataset/Train/Covid/16708_5_1.jpg  \n",
            "  inflating: Dataset/Train/Covid/1B734A89-A1BF-49A8-A1D3-66FAFA4FAC5D.jpeg  \n",
            "  inflating: Dataset/Train/Covid/2-chest-filmc.jpg  \n",
            "  inflating: Dataset/Train/Covid/23E99E2E-447C-46E5-8EB2-D35D12473C39.png  \n",
            "  inflating: Dataset/Train/Covid/2966893D-5DDF-4B68-9E2B-4979D5956C8E.jpeg  \n",
            "  inflating: Dataset/Train/Covid/2C26F453-AF3B-4517-BB9E-802CF2179543.jpeg  \n",
            "  inflating: Dataset/Train/Covid/31BA3780-2323-493F-8AED-62081B9C383B.jpeg  \n",
            "  inflating: Dataset/Train/Covid/353889E0-A1E8-4F9E-A0B8-F24F36BCFBFB.jpeg  \n",
            "  inflating: Dataset/Train/Covid/4-x-day1.jpg  \n",
            "  inflating: Dataset/Train/Covid/41591_2020_819_Fig1_HTML.webp-day10.png  \n",
            "  inflating: Dataset/Train/Covid/41591_2020_819_Fig1_HTML.webp-day5.png  \n",
            "  inflating: Dataset/Train/Covid/4e43e48d52c9e2d4c6c1fb9bc1544f_jumbo.jpeg  \n",
            "  inflating: Dataset/Train/Covid/53EC07C9-5CC6-4BE4-9B6F-D7B0D72AAA7E.jpeg  \n",
            "  inflating: Dataset/Train/Covid/58cb9263f16e94305c730685358e4e_jumbo.jpeg  \n",
            "  inflating: Dataset/Train/Covid/6C94A287-C059-46A0-8600-AFB95F4727B7.jpeg  \n",
            "  inflating: Dataset/Train/Covid/6CB4EFC6-68FA-4CD5-940C-BEFA8DAFE9A7.jpeg  \n",
            "  inflating: Dataset/Train/Covid/6b3bdbc31f65230b8cdcc3cef5f8ba8a-40ac-0.jpg  \n",
            "  inflating: Dataset/Train/Covid/6b44464d-73a7-4cf3-bbb6-ffe7168300e3.annot.original.jpeg  \n",
            "  inflating: Dataset/Train/Covid/7-fatal-covid19.jpg  \n",
            "  inflating: Dataset/Train/Covid/7AF6C1AF-D249-4BD2-8C26-449304105D03.jpeg  \n",
            "  inflating: Dataset/Train/Covid/7C69C012-7479-493F-8722-ABC29C60A2DD.jpeg  \n",
            "  inflating: Dataset/Train/Covid/80446565-E090-4187-A031-9D3CEAA586C8.jpeg  \n",
            "  inflating: Dataset/Train/Covid/85E52EB3-56E9-4D67-82DA-DEA247C82886.jpeg  \n",
            "  inflating: Dataset/Train/Covid/88de9d8c39e946abd495b37cd07d89e5-2ee6-0.jpg  \n",
            "  inflating: Dataset/Train/Covid/88de9d8c39e946abd495b37cd07d89e5-6531-0.jpg  \n",
            "  inflating: Dataset/Train/Covid/8FDE8DBA-CFBD-4B4C-B1A4-6F36A93B7E87.jpeg  \n",
            "  inflating: Dataset/Train/Covid/93FE0BB1-022D-4F24-9727-987A07975FFB.jpeg  \n",
            "  inflating: Dataset/Train/Covid/9C34AF49-E589-44D5-92D3-168B3B04E4A6.jpeg  \n",
            "  inflating: Dataset/Train/Covid/9fdd3c3032296fd04d2cad5d9070d4_jumbo.jpeg  \n",
            "  inflating: Dataset/Train/Covid/AR-1.jpg  \n",
            "  inflating: Dataset/Train/Covid/AR-2.jpg  \n",
            "  inflating: Dataset/Train/Covid/B2D20576-00B7-4519-A415-72DE29C90C34.jpeg  \n",
            "  inflating: Dataset/Train/Covid/CD50BA96-6982-4C80-AE7B-5F67ACDBFA56.jpeg  \n",
            "  inflating: Dataset/Train/Covid/E63574A7-4188-4C8D-8D17-9D67A18A1AFA.jpeg  \n",
            "  inflating: Dataset/Train/Covid/F2DE909F-E19C-4900-92F5-8F435B031AC6.jpeg  \n",
            "  inflating: Dataset/Train/Covid/F4341CE7-73C9-45C6-99C8-8567A5484B63.jpeg  \n",
            "  inflating: Dataset/Train/Covid/F63AB6CE-1968-4154-A70F-913AF154F53D.jpeg  \n",
            "  inflating: Dataset/Train/Covid/FE9F9A5D-2830-46F9-851B-1FF4534959BE.jpeg  \n",
            "  inflating: Dataset/Train/Covid/ae6c954c0039de4b5edee53865ffee43-e6c8-0.jpg  \n",
            "  inflating: Dataset/Train/Covid/all14238-fig-0001-m-b.jpg  \n",
            "  inflating: Dataset/Train/Covid/all14238-fig-0001-m-c.jpg  \n",
            "  inflating: Dataset/Train/Covid/auntminnie-a-2020_01_28_23_51_6665_2020_01_28_Vietnam_coronavirus.jpeg  \n",
            "  inflating: Dataset/Train/Covid/auntminnie-b-2020_01_28_23_51_6665_2020_01_28_Vietnam_coronavirus.jpeg  \n",
            "  inflating: Dataset/Train/Covid/auntminnie-c-2020_01_28_23_51_6665_2020_01_28_Vietnam_coronavirus.jpeg  \n",
            "  inflating: Dataset/Train/Covid/auntminnie-d-2020_01_28_23_51_6665_2020_01_28_Vietnam_coronavirus.jpeg  \n",
            "  inflating: Dataset/Train/Covid/ciaa199.pdf-001-a.png  \n",
            "  inflating: Dataset/Train/Covid/ciaa199.pdf-001-b.png  \n",
            "  inflating: Dataset/Train/Covid/ciaa199.pdf-001-c.png  \n",
            "  inflating: Dataset/Train/Covid/covid-19-caso-70-1-PA.jpg  \n",
            "  inflating: Dataset/Train/Covid/covid-19-infection-exclusive-gastrointestinal-symptoms-pa.png  \n",
            "  inflating: Dataset/Train/Covid/covid-19-pneumonia-12.jpg  \n",
            "  inflating: Dataset/Train/Covid/covid-19-pneumonia-14-PA.png  \n",
            "  inflating: Dataset/Train/Covid/covid-19-pneumonia-15-PA.jpg  \n",
            "  inflating: Dataset/Train/Covid/covid-19-pneumonia-19.jpg  \n",
            "  inflating: Dataset/Train/Covid/covid-19-pneumonia-2.jpg  \n",
            "  inflating: Dataset/Train/Covid/covid-19-pneumonia-20-pa-on-admission.jpg  \n",
            "  inflating: Dataset/Train/Covid/covid-19-pneumonia-20.jpg  \n",
            "  inflating: Dataset/Train/Covid/covid-19-pneumonia-22-day1-pa.png  \n",
            "  inflating: Dataset/Train/Covid/covid-19-pneumonia-22-day2-pa.png  \n",
            "  inflating: Dataset/Train/Covid/covid-19-pneumonia-28.png  \n",
            "  inflating: Dataset/Train/Covid/covid-19-pneumonia-30-PA.jpg  \n",
            "  inflating: Dataset/Train/Covid/covid-19-pneumonia-34.png  \n",
            "  inflating: Dataset/Train/Covid/covid-19-pneumonia-35-1.jpg  \n",
            "  inflating: Dataset/Train/Covid/covid-19-pneumonia-35-2.jpg  \n",
            "  inflating: Dataset/Train/Covid/covid-19-pneumonia-38-pa.jpg  \n",
            "  inflating: Dataset/Train/Covid/covid-19-pneumonia-44-day-0.jpeg  \n",
            "  inflating: Dataset/Train/Covid/covid-19-pneumonia-53.jpg  \n",
            "  inflating: Dataset/Train/Covid/covid-19-pneumonia-58-day-10.jpg  \n",
            "  inflating: Dataset/Train/Covid/covid-19-pneumonia-58-day-3.jpg  \n",
            "  inflating: Dataset/Train/Covid/covid-19-pneumonia-58-day-7.jpg  \n",
            "  inflating: Dataset/Train/Covid/covid-19-pneumonia-58-day-9.jpg  \n",
            "  inflating: Dataset/Train/Covid/covid-19-pneumonia-67.jpeg  \n",
            "  inflating: Dataset/Train/Covid/covid-19-pneumonia-7-PA.jpg  \n",
            "  inflating: Dataset/Train/Covid/covid-19-pneumonia-8.jpg  \n",
            "  inflating: Dataset/Train/Covid/covid-19-pneumonia-bilateral.jpg  \n",
            "  inflating: Dataset/Train/Covid/covid-19-pneumonia-evolution-over-a-week-1-day0-PA.jpg  \n",
            "  inflating: Dataset/Train/Covid/covid-19-pneumonia-mild.JPG  \n",
            "  inflating: Dataset/Train/Covid/extubation-1.jpg  \n",
            "  inflating: Dataset/Train/Covid/extubation-13.jpg  \n",
            "  inflating: Dataset/Train/Covid/extubation-4.jpg  \n",
            "  inflating: Dataset/Train/Covid/extubation-8.jpg  \n",
            "  inflating: Dataset/Train/Covid/fff49165-b22d-4bb4-b9d1-d5d62c52436c.annot.original.png  \n",
            "  inflating: Dataset/Train/Covid/figure1-5e71be566aa8714a04de3386-98-left.jpeg  \n",
            "  inflating: Dataset/Train/Covid/figure1-5e75d0940b71e1b702629659-98-right.jpeg  \n",
            "  inflating: Dataset/Train/Covid/gr1_lrg-a.jpg  \n",
            "  inflating: Dataset/Train/Covid/gr1_lrg-b.jpg  \n",
            "  inflating: Dataset/Train/Covid/kjr-21-e24-g001-l-a.jpg  \n",
            "  inflating: Dataset/Train/Covid/kjr-21-e24-g002-l-a.jpg  \n",
            "  inflating: Dataset/Train/Covid/kjr-21-e24-g003-l-a.jpg  \n",
            "  inflating: Dataset/Train/Covid/kjr-21-e25-g001-l-a.jpg  \n",
            "  inflating: Dataset/Train/Covid/lancet-case2a.jpg  \n",
            "  inflating: Dataset/Train/Covid/lancet-case2b.jpg  \n",
            "  inflating: Dataset/Train/Covid/nCoV-radiol.2020200269.fig1-day7.jpeg  \n",
            "  inflating: Dataset/Train/Covid/nejmc2001573_f1a.jpeg  \n",
            "  inflating: Dataset/Train/Covid/nejmc2001573_f1b.jpeg  \n",
            "  inflating: Dataset/Train/Covid/nejmoa2001191_f1-PA.jpeg  \n",
            "  inflating: Dataset/Train/Covid/nejmoa2001191_f3-PA.jpeg  \n",
            "  inflating: Dataset/Train/Covid/nejmoa2001191_f4.jpeg  \n",
            "  inflating: Dataset/Train/Covid/nejmoa2001191_f5-PA.jpeg  \n",
            "  inflating: Dataset/Train/Covid/paving.jpg  \n",
            "  inflating: Dataset/Train/Covid/radiol.2020200274.fig3d.png  \n",
            "  inflating: Dataset/Train/Covid/radiol.2020200490.fig3.jpeg  \n",
            "  inflating: Dataset/Train/Covid/ryct.2020200028.fig1a.jpeg  \n",
            "  inflating: Dataset/Train/Covid/ryct.2020200034.fig2.jpeg  \n",
            "  inflating: Dataset/Train/Covid/ryct.2020200034.fig5-day0.jpeg  \n",
            "  inflating: Dataset/Train/Covid/ryct.2020200034.fig5-day4.jpeg  \n",
            "  inflating: Dataset/Train/Covid/ryct.2020200034.fig5-day7.jpeg  \n",
            "  inflating: Dataset/Train/Covid/yxppt-2020-02-19_00-51-27_287214-day8.jpg  \n",
            "  inflating: Dataset/Train/Normal/IM-0140-0001.jpeg  \n",
            "  inflating: Dataset/Train/Normal/IM-0151-0001.jpeg  \n",
            "  inflating: Dataset/Train/Normal/IM-0158-0001.jpeg  \n",
            "  inflating: Dataset/Train/Normal/IM-0172-0001.jpeg  \n",
            "  inflating: Dataset/Train/Normal/IM-0189-0001.jpeg  \n",
            "  inflating: Dataset/Train/Normal/IM-0214-0001.jpeg  \n",
            "  inflating: Dataset/Train/Normal/IM-0215-0001.jpeg  \n",
            "  inflating: Dataset/Train/Normal/IM-0222-0001.jpeg  \n",
            "  inflating: Dataset/Train/Normal/IM-0235-0001.jpeg  \n",
            "  inflating: Dataset/Train/Normal/IM-0241-0001.jpeg  \n",
            "  inflating: Dataset/Train/Normal/IM-0243-0001.jpeg  \n",
            "  inflating: Dataset/Train/Normal/IM-0256-0001.jpeg  \n",
            "  inflating: Dataset/Train/Normal/IM-0272-0001.jpeg  \n",
            "  inflating: Dataset/Train/Normal/IM-0276-0001.jpeg  \n",
            "  inflating: Dataset/Train/Normal/IM-0292-0001.jpeg  \n",
            "  inflating: Dataset/Train/Normal/IM-0295-0001.jpeg  \n",
            "  inflating: Dataset/Train/Normal/IM-0311-0001.jpeg  \n",
            "  inflating: Dataset/Train/Normal/IM-0313-0001.jpeg  \n",
            "  inflating: Dataset/Train/Normal/IM-0347-0001.jpeg  \n",
            "  inflating: Dataset/Train/Normal/IM-0361-0001.jpeg  \n",
            "  inflating: Dataset/Train/Normal/IM-0374-0001.jpeg  \n",
            "  inflating: Dataset/Train/Normal/IM-0375-0001.jpeg  \n",
            "  inflating: Dataset/Train/Normal/IM-0377-0001.jpeg  \n",
            "  inflating: Dataset/Train/Normal/IM-0379-0001.jpeg  \n",
            "  inflating: Dataset/Train/Normal/IM-0395-0001.jpeg  \n",
            "  inflating: Dataset/Train/Normal/IM-0437-0001-0002.jpeg  \n",
            "  inflating: Dataset/Train/Normal/IM-0437-0001.jpeg  \n",
            "  inflating: Dataset/Train/Normal/IM-0439-0001.jpeg  \n",
            "  inflating: Dataset/Train/Normal/IM-0448-0001.jpeg  \n",
            "  inflating: Dataset/Train/Normal/IM-0449-0001.jpeg  \n",
            "  inflating: Dataset/Train/Normal/IM-0458-0001.jpeg  \n",
            "  inflating: Dataset/Train/Normal/IM-0478-0001.jpeg  \n",
            "  inflating: Dataset/Train/Normal/IM-0486-0001.jpeg  \n",
            "  inflating: Dataset/Train/Normal/IM-0492-0001.jpeg  \n",
            "  inflating: Dataset/Train/Normal/IM-0496-0001.jpeg  \n",
            "  inflating: Dataset/Train/Normal/IM-0497-0001-0001.jpeg  \n",
            "  inflating: Dataset/Train/Normal/IM-0502-0001.jpeg  \n",
            "  inflating: Dataset/Train/Normal/IM-0504-0001.jpeg  \n",
            "  inflating: Dataset/Train/Normal/IM-0506-0001.jpeg  \n",
            "  inflating: Dataset/Train/Normal/IM-0517-0001-0001.jpeg  \n",
            "  inflating: Dataset/Train/Normal/IM-0520-0001.jpeg  \n",
            "  inflating: Dataset/Train/Normal/IM-0523-0001-0002.jpeg  \n",
            "  inflating: Dataset/Train/Normal/IM-0523-0001.jpeg  \n",
            "  inflating: Dataset/Train/Normal/IM-0530-0001.jpeg  \n",
            "  inflating: Dataset/Train/Normal/IM-0531-0001-0001.jpeg  \n",
            "  inflating: Dataset/Train/Normal/IM-0549-0001.jpeg  \n",
            "  inflating: Dataset/Train/Normal/IM-0575-0001.jpeg  \n",
            "  inflating: Dataset/Train/Normal/IM-0598-0001.jpeg  \n",
            "  inflating: Dataset/Train/Normal/IM-0612-0001-0002.jpeg  \n",
            "  inflating: Dataset/Train/Normal/IM-0613-0001.jpeg  \n",
            "  inflating: Dataset/Train/Normal/IM-0622-0001-0002.jpeg  \n",
            "  inflating: Dataset/Train/Normal/IM-0623-0001.jpeg  \n",
            "  inflating: Dataset/Train/Normal/IM-0635-0001.jpeg  \n",
            "  inflating: Dataset/Train/Normal/IM-0650-0001-0002.jpeg  \n",
            "  inflating: Dataset/Train/Normal/IM-0656-0001.jpeg  \n",
            "  inflating: Dataset/Train/Normal/IM-0658-0001.jpeg  \n",
            "  inflating: Dataset/Train/Normal/IM-0673-0001.jpeg  \n",
            "  inflating: Dataset/Train/Normal/IM-0676-0001.jpeg  \n",
            "  inflating: Dataset/Train/Normal/IM-0681-0001.jpeg  \n",
            "  inflating: Dataset/Train/Normal/IM-0688-0001.jpeg  \n",
            "  inflating: Dataset/Train/Normal/IM-0691-0001.jpeg  \n",
            "  inflating: Dataset/Train/Normal/IM-0692-0001.jpeg  \n",
            "  inflating: Dataset/Train/Normal/IM-0700-0001.jpeg  \n",
            "  inflating: Dataset/Train/Normal/IM-0701-0001.jpeg  \n",
            "  inflating: Dataset/Train/Normal/IM-0704-0001.jpeg  \n",
            "  inflating: Dataset/Train/Normal/IM-0705-0001.jpeg  \n",
            "  inflating: Dataset/Train/Normal/IM-0706-0001.jpeg  \n",
            "  inflating: Dataset/Train/Normal/IM-0716-0001.jpeg  \n",
            "  inflating: Dataset/Train/Normal/IM-0732-0001.jpeg  \n",
            "  inflating: Dataset/Train/Normal/IM-0752-0001.jpeg  \n",
            "  inflating: Dataset/Train/Normal/NORMAL2-IM-0384-0001.jpeg  \n",
            "  inflating: Dataset/Train/Normal/NORMAL2-IM-0393-0001.jpeg  \n",
            "  inflating: Dataset/Train/Normal/NORMAL2-IM-0395-0001-0001.jpeg  \n",
            "  inflating: Dataset/Train/Normal/NORMAL2-IM-0433-0001.jpeg  \n",
            "  inflating: Dataset/Train/Normal/NORMAL2-IM-0439-0001.jpeg  \n",
            "  inflating: Dataset/Train/Normal/NORMAL2-IM-0449-0001.jpeg  \n",
            "  inflating: Dataset/Train/Normal/NORMAL2-IM-0462-0001.jpeg  \n",
            "  inflating: Dataset/Train/Normal/NORMAL2-IM-0472-0001.jpeg  \n",
            "  inflating: Dataset/Train/Normal/NORMAL2-IM-0482-0001.jpeg  \n",
            "  inflating: Dataset/Train/Normal/NORMAL2-IM-0497-0001.jpeg  \n",
            "  inflating: Dataset/Train/Normal/NORMAL2-IM-0552-0001.jpeg  \n",
            "  inflating: Dataset/Train/Normal/NORMAL2-IM-0555-0001-0001.jpeg  \n",
            "  inflating: Dataset/Train/Normal/NORMAL2-IM-0559-0001.jpeg  \n",
            "  inflating: Dataset/Train/Normal/NORMAL2-IM-0571-0001.jpeg  \n",
            "  inflating: Dataset/Train/Normal/NORMAL2-IM-0577-0001.jpeg  \n",
            "  inflating: Dataset/Train/Normal/NORMAL2-IM-0582-0001.jpeg  \n",
            "  inflating: Dataset/Train/Normal/NORMAL2-IM-0588-0001.jpeg  \n",
            "  inflating: Dataset/Train/Normal/NORMAL2-IM-0589-0001.jpeg  \n",
            "  inflating: Dataset/Train/Normal/NORMAL2-IM-0602-0001.jpeg  \n",
            "  inflating: Dataset/Train/Normal/NORMAL2-IM-0627-0001.jpeg  \n",
            "  inflating: Dataset/Train/Normal/NORMAL2-IM-0630-0001.jpeg  \n",
            "  inflating: Dataset/Train/Normal/NORMAL2-IM-0636-0001.jpeg  \n",
            "  inflating: Dataset/Train/Normal/NORMAL2-IM-0643-0001.jpeg  \n",
            "  inflating: Dataset/Train/Normal/NORMAL2-IM-0683-0001.jpeg  \n",
            "  inflating: Dataset/Train/Normal/NORMAL2-IM-0687-0001.jpeg  \n",
            "  inflating: Dataset/Train/Normal/NORMAL2-IM-0689-0001.jpeg  \n",
            "  inflating: Dataset/Train/Normal/NORMAL2-IM-0692-0001.jpeg  \n",
            "  inflating: Dataset/Train/Normal/NORMAL2-IM-0693-0001.jpeg  \n",
            "  inflating: Dataset/Train/Normal/NORMAL2-IM-0694-0001.jpeg  \n",
            "  inflating: Dataset/Train/Normal/NORMAL2-IM-0771-0001.jpeg  \n",
            "  inflating: Dataset/Train/Normal/NORMAL2-IM-0775-0001.jpeg  \n",
            "  inflating: Dataset/Train/Normal/NORMAL2-IM-0776-0001.jpeg  \n",
            "  inflating: Dataset/Train/Normal/NORMAL2-IM-0790-0001.jpeg  \n",
            "  inflating: Dataset/Train/Normal/NORMAL2-IM-0807-0001.jpeg  \n",
            "  inflating: Dataset/Train/Normal/NORMAL2-IM-0816-0001.jpeg  \n",
            "  inflating: Dataset/Train/Normal/NORMAL2-IM-0842-0001.jpeg  \n",
            "  inflating: Dataset/Train/Normal/NORMAL2-IM-0858-0001.jpeg  \n",
            "  inflating: Dataset/Train/Normal/NORMAL2-IM-0866-0001.jpeg  \n",
            "  inflating: Dataset/Train/Normal/NORMAL2-IM-0876-0001.jpeg  \n",
            "  inflating: Dataset/Train/Normal/NORMAL2-IM-0892-0001.jpeg  \n",
            "  inflating: Dataset/Train/Normal/NORMAL2-IM-0911-0001.jpeg  \n",
            "  inflating: Dataset/Train/Normal/NORMAL2-IM-0915-0001.jpeg  \n",
            "  inflating: Dataset/Train/Normal/NORMAL2-IM-0927-0001.jpeg  \n",
            "  inflating: Dataset/Train/Normal/NORMAL2-IM-0942-0001.jpeg  \n",
            "  inflating: Dataset/Train/Normal/NORMAL2-IM-0947-0001.jpeg  \n",
            "  inflating: Dataset/Train/Normal/NORMAL2-IM-0959-0001.jpeg  \n",
            "  inflating: Dataset/Train/Normal/NORMAL2-IM-0967-0001.jpeg  \n",
            "  inflating: Dataset/Train/Normal/NORMAL2-IM-0977-0001.jpeg  \n",
            "  inflating: Dataset/Train/Normal/NORMAL2-IM-0978-0001.jpeg  \n",
            "  inflating: Dataset/Train/Normal/NORMAL2-IM-0999-0001.jpeg  \n",
            "  inflating: Dataset/Train/Normal/NORMAL2-IM-1010-0001.jpeg  \n",
            "  inflating: Dataset/Train/Normal/NORMAL2-IM-1014-0001.jpeg  \n",
            "  inflating: Dataset/Train/Normal/NORMAL2-IM-1022-0001.jpeg  \n",
            "  inflating: Dataset/Train/Normal/NORMAL2-IM-1037-0001.jpeg  \n",
            "  inflating: Dataset/Train/Normal/NORMAL2-IM-1040-0001.jpeg  \n",
            "  inflating: Dataset/Train/Normal/NORMAL2-IM-1094-0001-0001.jpeg  \n",
            "  inflating: Dataset/Train/Normal/NORMAL2-IM-1096-0001-0001.jpeg  \n",
            "  inflating: Dataset/Train/Normal/NORMAL2-IM-1102-0001-0002.jpeg  \n",
            "  inflating: Dataset/Train/Normal/NORMAL2-IM-1112-0001.jpeg  \n",
            "  inflating: Dataset/Train/Normal/NORMAL2-IM-1142-0001-0001.jpeg  \n",
            "  inflating: Dataset/Train/Normal/NORMAL2-IM-1154-0001.jpeg  \n",
            "  inflating: Dataset/Train/Normal/NORMAL2-IM-1156-0001.jpeg  \n",
            "  inflating: Dataset/Train/Normal/NORMAL2-IM-1164-0001.jpeg  \n",
            "  inflating: Dataset/Train/Normal/NORMAL2-IM-1182-0001.jpeg  \n",
            "  inflating: Dataset/Train/Normal/NORMAL2-IM-1250-0001.jpeg  \n",
            "  inflating: Dataset/Train/Normal/NORMAL2-IM-1261-0001.jpeg  \n",
            "  inflating: Dataset/Train/Normal/NORMAL2-IM-1264-0001.jpeg  \n",
            "  inflating: Dataset/Train/Normal/NORMAL2-IM-1274-0001.jpeg  \n",
            "  inflating: Dataset/Train/Normal/NORMAL2-IM-1289-0001.jpeg  \n",
            "  inflating: Dataset/Train/Normal/NORMAL2-IM-1294-0001-0001.jpeg  \n",
            "  inflating: Dataset/Train/Normal/NORMAL2-IM-1342-0001.jpeg  \n",
            "  inflating: Dataset/Train/Normal/NORMAL2-IM-1347-0001.jpeg  \n",
            "  inflating: Dataset/Train/Normal/NORMAL2-IM-1356-0001.jpeg  \n",
            "  inflating: Dataset/Train/Normal/NORMAL2-IM-1396-0001.jpeg  \n",
            "  inflating: Dataset/Val/Covid/16654_1_1.png  \n",
            "  inflating: Dataset/Val/Covid/16654_2_1.jpg  \n",
            "  inflating: Dataset/Val/Covid/16654_4_1.jpg  \n",
            "  inflating: Dataset/Val/Covid/23E99E2E-447C-46E5-8EB2-D35D12473C39.png  \n",
            "  inflating: Dataset/Val/Covid/31BA3780-2323-493F-8AED-62081B9C383B.jpeg  \n",
            "  inflating: Dataset/Val/Covid/353889E0-A1E8-4F9E-A0B8-F24F36BCFBFB.jpeg  \n",
            "  inflating: Dataset/Val/Covid/4-x-day1.jpg  \n",
            "  inflating: Dataset/Val/Covid/41591_2020_819_Fig1_HTML.webp-day10.png  \n",
            "  inflating: Dataset/Val/Covid/41591_2020_819_Fig1_HTML.webp-day5.png  \n",
            "  inflating: Dataset/Val/Covid/4e43e48d52c9e2d4c6c1fb9bc1544f_jumbo.jpeg  \n",
            "  inflating: Dataset/Val/Covid/53EC07C9-5CC6-4BE4-9B6F-D7B0D72AAA7E.jpeg  \n",
            "  inflating: Dataset/Val/Covid/58cb9263f16e94305c730685358e4e_jumbo.jpeg  \n",
            "  inflating: Dataset/Val/Covid/6C94A287-C059-46A0-8600-AFB95F4727B7.jpeg  \n",
            "  inflating: Dataset/Val/Covid/6CB4EFC6-68FA-4CD5-940C-BEFA8DAFE9A7.jpeg  \n",
            "  inflating: Dataset/Val/Covid/6b3bdbc31f65230b8cdcc3cef5f8ba8a-40ac-0.jpg  \n",
            "  inflating: Dataset/Val/Covid/6b44464d-73a7-4cf3-bbb6-ffe7168300e3.annot.original.jpeg  \n",
            "  inflating: Dataset/Val/Covid/7AF6C1AF-D249-4BD2-8C26-449304105D03.jpeg  \n",
            "  inflating: Dataset/Val/Covid/7C69C012-7479-493F-8722-ABC29C60A2DD.jpeg  \n",
            "  inflating: Dataset/Val/Covid/85E52EB3-56E9-4D67-82DA-DEA247C82886.jpeg  \n",
            "  inflating: Dataset/Val/Covid/88de9d8c39e946abd495b37cd07d89e5-2ee6-0.jpg  \n",
            "  inflating: Dataset/Val/Covid/88de9d8c39e946abd495b37cd07d89e5-6531-0.jpg  \n",
            "  inflating: Dataset/Val/Covid/B2D20576-00B7-4519-A415-72DE29C90C34.jpeg  \n",
            "  inflating: Dataset/Val/Covid/auntminnie-c-2020_01_28_23_51_6665_2020_01_28_Vietnam_coronavirus.jpeg  \n",
            "  inflating: Dataset/Val/Covid/auntminnie-d-2020_01_28_23_51_6665_2020_01_28_Vietnam_coronavirus.jpeg  \n",
            "  inflating: Dataset/Val/Covid/covid-19-pneumonia-12.jpg  \n",
            "  inflating: Dataset/Val/Covid/covid-19-pneumonia-14-PA.png  \n",
            "  inflating: Dataset/Val/Covid/covid-19-pneumonia-35-1.jpg  \n",
            "  inflating: Dataset/Val/Covid/covid-19-pneumonia-35-2.jpg  \n",
            "  inflating: Dataset/Val/Covid/covid-19-pneumonia-53.jpg  \n",
            "  inflating: Dataset/Val/Covid/covid-19-pneumonia-8.jpg  \n",
            "  inflating: Dataset/Val/Normal/NORMAL2-IM-0395-0001.jpeg  \n",
            "  inflating: Dataset/Val/Normal/NORMAL2-IM-0408-0001.jpeg  \n",
            "  inflating: Dataset/Val/Normal/NORMAL2-IM-0416-0001-0001.jpeg  \n",
            "  inflating: Dataset/Val/Normal/NORMAL2-IM-0441-0001.jpeg  \n",
            "  inflating: Dataset/Val/Normal/NORMAL2-IM-0462-0001.jpeg  \n",
            "  inflating: Dataset/Val/Normal/NORMAL2-IM-0535-0001-0002.jpeg  \n",
            "  inflating: Dataset/Val/Normal/NORMAL2-IM-0652-0001.jpeg  \n",
            "  inflating: Dataset/Val/Normal/NORMAL2-IM-0678-0001.jpeg  \n",
            "  inflating: Dataset/Val/Normal/NORMAL2-IM-0730-0001.jpeg  \n",
            "  inflating: Dataset/Val/Normal/NORMAL2-IM-0765-0001.jpeg  \n",
            "  inflating: Dataset/Val/Normal/NORMAL2-IM-0790-0001.jpeg  \n",
            "  inflating: Dataset/Val/Normal/NORMAL2-IM-0842-0001.jpeg  \n",
            "  inflating: Dataset/Val/Normal/NORMAL2-IM-0851-0001-0001.jpeg  \n",
            "  inflating: Dataset/Val/Normal/NORMAL2-IM-0851-0001.jpeg  \n",
            "  inflating: Dataset/Val/Normal/NORMAL2-IM-0857-0001.jpeg  \n",
            "  inflating: Dataset/Val/Normal/NORMAL2-IM-0859-0001.jpeg  \n",
            "  inflating: Dataset/Val/Normal/NORMAL2-IM-0869-0001.jpeg  \n",
            "  inflating: Dataset/Val/Normal/NORMAL2-IM-0873-0001.jpeg  \n",
            "  inflating: Dataset/Val/Normal/NORMAL2-IM-0894-0001.jpeg  \n",
            "  inflating: Dataset/Val/Normal/NORMAL2-IM-0905-0001.jpeg  \n",
            "  inflating: Dataset/Val/Normal/NORMAL2-IM-0914-0001.jpeg  \n",
            "  inflating: Dataset/Val/Normal/NORMAL2-IM-1022-0001.jpeg  \n",
            "  inflating: Dataset/Val/Normal/NORMAL2-IM-1037-0001.jpeg  \n",
            "  inflating: Dataset/Val/Normal/NORMAL2-IM-1045-0001.jpeg  \n",
            "  inflating: Dataset/Val/Normal/NORMAL2-IM-1060-0001.jpeg  \n",
            "  inflating: Dataset/Val/Normal/NORMAL2-IM-1191-0001.jpeg  \n",
            "  inflating: Dataset/Val/Normal/NORMAL2-IM-1228-0001.jpeg  \n",
            "  inflating: Dataset/Val/Normal/NORMAL2-IM-1237-0001.jpeg  \n",
            "  inflating: Dataset/Val/Normal/NORMAL2-IM-1240-0001.jpeg  \n",
            "  inflating: Dataset/Val/Normal/NORMAL2-IM-1275-0001.jpeg  \n"
          ]
        }
      ]
    },
    {
      "cell_type": "code",
      "source": [
        "import pandas as pd\n",
        "import os\n",
        "import shutil\n",
        "print(os.listdir(\"/content/Dataset\"))"
      ],
      "metadata": {
        "colab": {
          "base_uri": "https://localhost:8080/"
        },
        "id": "Ejsfpl0te-0G",
        "outputId": "4112622f-156a-4cfb-9d10-a661e7d8be9a"
      },
      "execution_count": null,
      "outputs": [
        {
          "output_type": "stream",
          "name": "stdout",
          "text": [
            "['Prediction', 'Train', 'Val']\n"
          ]
        }
      ]
    },
    {
      "cell_type": "code",
      "source": [
        "TRAIN_PATH = \"/content/Dataset/Train\"\n",
        "VAL_PATH = \"/content/Dataset/Val\""
      ],
      "metadata": {
        "id": "D6u13fivgSam"
      },
      "execution_count": null,
      "outputs": []
    },
    {
      "cell_type": "code",
      "source": [
        "import numpy as np\n",
        "import matplotlib.pyplot as plt\n",
        "import keras\n",
        "from keras.layers import *\n",
        "from keras.models import *\n",
        "from keras.preprocessing import image"
      ],
      "metadata": {
        "id": "DNNNGIQsgcaP"
      },
      "execution_count": null,
      "outputs": []
    },
    {
      "cell_type": "code",
      "source": [
        "model = Sequential()\n",
        "model.add(Conv2D(32,kernel_size=(3,3),activation=\"relu\",input_shape=(224,224,3)))\n",
        "\n",
        "model.add(Conv2D(64,(3,3),activation=\"relu\"))\n",
        "model.add(MaxPooling2D(pool_size = (2,2)))\n",
        "model.add(Dropout(0.25))\n",
        "\n",
        "model.add(Conv2D(64,(3,3),activation=\"relu\"))\n",
        "model.add(MaxPooling2D(pool_size=(2,2)))\n",
        "model.add(Dropout(0.25))\n",
        "\n",
        "model.add(Conv2D(128,(3,3),activation=\"relu\"))\n",
        "model.add(MaxPooling2D(pool_size=(2,2)))\n",
        "model.add(Dropout(0.25))\n",
        "\n",
        "model.add(Conv2D(128,(3,3),activation=\"relu\"))\n",
        "model.add(MaxPooling2D(pool_size=(2,2)))\n",
        "model.add(Dropout(0.25))\n",
        "\n",
        "model.add(Flatten())\n",
        "model.add(Dense(64,activation=\"relu\"))\n",
        "model.add(Dropout(0.5))\n",
        "\n",
        "model.add(Dense(1,activation=\"sigmoid\"))\n",
        "\n",
        "model.compile(loss=keras.losses.binary_crossentropy,optimizer = \"adam\",metrics=[\"accuracy\"])"
      ],
      "metadata": {
        "id": "t0Jox74mgg33"
      },
      "execution_count": null,
      "outputs": []
    },
    {
      "cell_type": "code",
      "source": [
        "model.summary()"
      ],
      "metadata": {
        "colab": {
          "base_uri": "https://localhost:8080/"
        },
        "id": "JOKM8h6Sgiun",
        "outputId": "960878b6-f75f-4efb-e381-c146d69d66d1"
      },
      "execution_count": null,
      "outputs": [
        {
          "output_type": "stream",
          "name": "stdout",
          "text": [
            "Model: \"sequential\"\n",
            "_________________________________________________________________\n",
            " Layer (type)                Output Shape              Param #   \n",
            "=================================================================\n",
            " conv2d (Conv2D)             (None, 222, 222, 32)      896       \n",
            "                                                                 \n",
            " conv2d_1 (Conv2D)           (None, 220, 220, 64)      18496     \n",
            "                                                                 \n",
            " max_pooling2d (MaxPooling2D  (None, 110, 110, 64)     0         \n",
            " )                                                               \n",
            "                                                                 \n",
            " dropout (Dropout)           (None, 110, 110, 64)      0         \n",
            "                                                                 \n",
            " conv2d_2 (Conv2D)           (None, 108, 108, 64)      36928     \n",
            "                                                                 \n",
            " max_pooling2d_1 (MaxPooling  (None, 54, 54, 64)       0         \n",
            " 2D)                                                             \n",
            "                                                                 \n",
            " dropout_1 (Dropout)         (None, 54, 54, 64)        0         \n",
            "                                                                 \n",
            " conv2d_3 (Conv2D)           (None, 52, 52, 128)       73856     \n",
            "                                                                 \n",
            " max_pooling2d_2 (MaxPooling  (None, 26, 26, 128)      0         \n",
            " 2D)                                                             \n",
            "                                                                 \n",
            " dropout_2 (Dropout)         (None, 26, 26, 128)       0         \n",
            "                                                                 \n",
            " conv2d_4 (Conv2D)           (None, 24, 24, 128)       147584    \n",
            "                                                                 \n",
            " max_pooling2d_3 (MaxPooling  (None, 12, 12, 128)      0         \n",
            " 2D)                                                             \n",
            "                                                                 \n",
            " dropout_3 (Dropout)         (None, 12, 12, 128)       0         \n",
            "                                                                 \n",
            " flatten (Flatten)           (None, 18432)             0         \n",
            "                                                                 \n",
            " dense (Dense)               (None, 64)                1179712   \n",
            "                                                                 \n",
            " dropout_4 (Dropout)         (None, 64)                0         \n",
            "                                                                 \n",
            " dense_1 (Dense)             (None, 1)                 65        \n",
            "                                                                 \n",
            "=================================================================\n",
            "Total params: 1,457,537\n",
            "Trainable params: 1,457,537\n",
            "Non-trainable params: 0\n",
            "_________________________________________________________________\n"
          ]
        }
      ]
    },
    {
      "cell_type": "code",
      "source": [
        "train_datagen = image.ImageDataGenerator(\n",
        "    rescale = 1./255,\n",
        "    shear_range = 0.2,\n",
        "    zoom_range = 0.2,\n",
        "    horizontal_flip = True,\n",
        ")\n",
        "test_dataset = image.ImageDataGenerator(rescale = 1./255)"
      ],
      "metadata": {
        "id": "FWdBIza0glYd"
      },
      "execution_count": null,
      "outputs": []
    },
    {
      "cell_type": "code",
      "source": [
        "train_generator = train_datagen.flow_from_directory(\n",
        "    '/content/Dataset/Train',\n",
        "    target_size = (224,224),\n",
        "    batch_size = 32,\n",
        "    class_mode = 'binary'\n",
        ")"
      ],
      "metadata": {
        "colab": {
          "base_uri": "https://localhost:8080/"
        },
        "id": "SrP5kpkagotN",
        "outputId": "8d6c837c-2e3c-4c61-a568-fb92ddf31b6e"
      },
      "execution_count": null,
      "outputs": [
        {
          "output_type": "stream",
          "name": "stdout",
          "text": [
            "Found 288 images belonging to 2 classes.\n"
          ]
        }
      ]
    },
    {
      "cell_type": "code",
      "source": [
        "train_generator.class_indices"
      ],
      "metadata": {
        "colab": {
          "base_uri": "https://localhost:8080/"
        },
        "id": "KREC-NN8gy1_",
        "outputId": "91da4f48-653f-4b78-af0a-d406567172dc"
      },
      "execution_count": null,
      "outputs": [
        {
          "output_type": "execute_result",
          "data": {
            "text/plain": [
              "{'Covid': 0, 'Normal': 1}"
            ]
          },
          "metadata": {},
          "execution_count": 12
        }
      ]
    },
    {
      "cell_type": "code",
      "source": [
        "validation_generator = test_dataset.flow_from_directory(\n",
        "    '/content/Dataset/Val',\n",
        "    target_size = (224,224),\n",
        "    batch_size = 32,\n",
        "    class_mode = 'binary'\n",
        ")"
      ],
      "metadata": {
        "colab": {
          "base_uri": "https://localhost:8080/"
        },
        "id": "ngJ7KRz-g6ou",
        "outputId": "281919ee-339a-4429-e72c-280942663daf"
      },
      "execution_count": null,
      "outputs": [
        {
          "output_type": "stream",
          "name": "stdout",
          "text": [
            "Found 60 images belonging to 2 classes.\n"
          ]
        }
      ]
    },
    {
      "cell_type": "code",
      "source": [
        "hist = model.fit_generator(\n",
        "    train_generator,\n",
        "    steps_per_epoch = 8,\n",
        "    epochs = 10,\n",
        "    validation_data = validation_generator,\n",
        "    validation_steps = 2\n",
        ")"
      ],
      "metadata": {
        "colab": {
          "base_uri": "https://localhost:8080/"
        },
        "id": "bN5eezHvhCSI",
        "outputId": "646432f8-10da-4522-e4e4-40544336dc26"
      },
      "execution_count": null,
      "outputs": [
        {
          "output_type": "stream",
          "name": "stderr",
          "text": [
            "/usr/local/lib/python3.7/dist-packages/ipykernel_launcher.py:6: UserWarning: `Model.fit_generator` is deprecated and will be removed in a future version. Please use `Model.fit`, which supports generators.\n",
            "  \n"
          ]
        },
        {
          "output_type": "stream",
          "name": "stdout",
          "text": [
            "Epoch 1/10\n",
            "8/8 [==============================] - 57s 7s/step - loss: 0.6944 - accuracy: 0.5898 - val_loss: 0.6819 - val_accuracy: 0.8000\n",
            "Epoch 2/10\n",
            "8/8 [==============================] - 53s 7s/step - loss: 0.5724 - accuracy: 0.7227 - val_loss: 0.4665 - val_accuracy: 0.8167\n",
            "Epoch 3/10\n",
            "8/8 [==============================] - 53s 7s/step - loss: 0.3027 - accuracy: 0.8867 - val_loss: 0.2160 - val_accuracy: 0.8833\n",
            "Epoch 4/10\n",
            "8/8 [==============================] - 54s 7s/step - loss: 0.2923 - accuracy: 0.8906 - val_loss: 0.2157 - val_accuracy: 0.9833\n",
            "Epoch 5/10\n",
            "8/8 [==============================] - 53s 7s/step - loss: 0.2827 - accuracy: 0.9023 - val_loss: 0.5310 - val_accuracy: 0.8833\n",
            "Epoch 6/10\n",
            "8/8 [==============================] - 53s 7s/step - loss: 0.2922 - accuracy: 0.8984 - val_loss: 0.1940 - val_accuracy: 0.9500\n",
            "Epoch 7/10\n",
            "8/8 [==============================] - 54s 7s/step - loss: 0.2598 - accuracy: 0.9023 - val_loss: 0.1510 - val_accuracy: 1.0000\n",
            "Epoch 8/10\n",
            "8/8 [==============================] - 54s 7s/step - loss: 0.1930 - accuracy: 0.9062 - val_loss: 0.0733 - val_accuracy: 1.0000\n",
            "Epoch 9/10\n",
            "8/8 [==============================] - 53s 7s/step - loss: 0.1666 - accuracy: 0.9492 - val_loss: 0.0645 - val_accuracy: 0.9833\n",
            "Epoch 10/10\n",
            "8/8 [==============================] - 53s 7s/step - loss: 0.2496 - accuracy: 0.9414 - val_loss: 0.2602 - val_accuracy: 0.9833\n"
          ]
        }
      ]
    },
    {
      "cell_type": "code",
      "source": [
        "model.save(\"Detection_Covid_19.h5\")"
      ],
      "metadata": {
        "id": "cviwATWnlzUA"
      },
      "execution_count": null,
      "outputs": []
    },
    {
      "cell_type": "code",
      "source": [
        "# model.evaluate_generator(train_generator)"
      ],
      "metadata": {
        "id": "P_7NKJiql18F"
      },
      "execution_count": null,
      "outputs": []
    },
    {
      "cell_type": "code",
      "source": [
        "# model.evaluate_generator(validation_generator)"
      ],
      "metadata": {
        "id": "afiKCjIHl4Yf"
      },
      "execution_count": null,
      "outputs": []
    },
    {
      "cell_type": "code",
      "source": [
        "model = load_model(\"Detection_Covid_19.h5\")"
      ],
      "metadata": {
        "id": "0H2XC7EAl7XN"
      },
      "execution_count": null,
      "outputs": []
    },
    {
      "cell_type": "code",
      "source": [
        "import os"
      ],
      "metadata": {
        "id": "pkXl4TbYl-AE"
      },
      "execution_count": null,
      "outputs": []
    },
    {
      "cell_type": "code",
      "source": [
        "train_generator.class_indices"
      ],
      "metadata": {
        "colab": {
          "base_uri": "https://localhost:8080/"
        },
        "id": "NORXlvjpl_GP",
        "outputId": "52ec40f0-33b2-40aa-f424-a49509f9041e"
      },
      "execution_count": null,
      "outputs": [
        {
          "output_type": "execute_result",
          "data": {
            "text/plain": [
              "{'Covid': 0, 'Normal': 1}"
            ]
          },
          "metadata": {},
          "execution_count": 20
        }
      ]
    },
    {
      "cell_type": "code",
      "source": [
        "y_actual = []\n",
        "y_test = []"
      ],
      "metadata": {
        "id": "D7eTl5s5mCJd"
      },
      "execution_count": null,
      "outputs": []
    },
    {
      "cell_type": "code",
      "source": [
        "from keras.utils import load_img, img_to_array"
      ],
      "metadata": {
        "id": "hMaBUpDXnbmA"
      },
      "execution_count": null,
      "outputs": []
    },
    {
      "cell_type": "code",
      "source": [
        "for i in os.listdir(\"/content/Dataset/Val/Normal\"):\n",
        "  img = load_img(\"/content/Dataset/Val/Normal/\"+i,target_size=(224,224))\n",
        "  img = img_to_array(img)\n",
        "  img = np.expand_dims(img,axis=0)\n",
        "  p = model.predict(img)\n",
        "  y_test.append(p[0,0])\n",
        "  y_actual.append(1)"
      ],
      "metadata": {
        "colab": {
          "base_uri": "https://localhost:8080/"
        },
        "id": "dkPxMA20mFKm",
        "outputId": "5848d9b4-9998-4be7-e97a-2448f4420559"
      },
      "execution_count": null,
      "outputs": [
        {
          "output_type": "stream",
          "name": "stdout",
          "text": [
            "1/1 [==============================] - 0s 149ms/step\n",
            "1/1 [==============================] - 0s 59ms/step\n",
            "1/1 [==============================] - 0s 64ms/step\n",
            "1/1 [==============================] - 0s 59ms/step\n",
            "1/1 [==============================] - 0s 60ms/step\n",
            "1/1 [==============================] - 0s 62ms/step\n",
            "1/1 [==============================] - 0s 57ms/step\n",
            "1/1 [==============================] - 0s 63ms/step\n",
            "1/1 [==============================] - 0s 64ms/step\n",
            "1/1 [==============================] - 0s 57ms/step\n",
            "1/1 [==============================] - 0s 61ms/step\n",
            "1/1 [==============================] - 0s 62ms/step\n",
            "1/1 [==============================] - 0s 57ms/step\n",
            "1/1 [==============================] - 0s 61ms/step\n",
            "1/1 [==============================] - 0s 58ms/step\n",
            "1/1 [==============================] - 0s 57ms/step\n",
            "1/1 [==============================] - 0s 59ms/step\n",
            "1/1 [==============================] - 0s 61ms/step\n",
            "1/1 [==============================] - 0s 67ms/step\n",
            "1/1 [==============================] - 0s 57ms/step\n",
            "1/1 [==============================] - 0s 64ms/step\n",
            "1/1 [==============================] - 0s 61ms/step\n",
            "1/1 [==============================] - 0s 56ms/step\n",
            "1/1 [==============================] - 0s 56ms/step\n",
            "1/1 [==============================] - 0s 58ms/step\n",
            "1/1 [==============================] - 0s 57ms/step\n",
            "1/1 [==============================] - 0s 74ms/step\n",
            "1/1 [==============================] - 0s 56ms/step\n",
            "1/1 [==============================] - 0s 59ms/step\n",
            "1/1 [==============================] - 0s 57ms/step\n"
          ]
        }
      ]
    },
    {
      "cell_type": "code",
      "source": [
        "for i in os.listdir(\"/content/Dataset/Val/Covid\"):\n",
        "  img = load_img(\"/content/Dataset/Val/Covid/\"+i,target_size=(224,224))\n",
        "  img = img_to_array(img)\n",
        "  img = np.expand_dims(img,axis=0)\n",
        "  p = model.predict(img)\n",
        "  y_test.append(p[0,0])\n",
        "  y_actual.append(0)"
      ],
      "metadata": {
        "colab": {
          "base_uri": "https://localhost:8080/"
        },
        "id": "gZ7yjCZQoGLI",
        "outputId": "6e530372-14e1-4d9f-bfe9-6081565933f3"
      },
      "execution_count": null,
      "outputs": [
        {
          "output_type": "stream",
          "name": "stdout",
          "text": [
            "1/1 [==============================] - 0s 90ms/step\n",
            "1/1 [==============================] - 0s 61ms/step\n",
            "1/1 [==============================] - 0s 58ms/step\n",
            "1/1 [==============================] - 0s 60ms/step\n",
            "1/1 [==============================] - 0s 60ms/step\n",
            "1/1 [==============================] - 0s 59ms/step\n",
            "1/1 [==============================] - 0s 60ms/step\n",
            "1/1 [==============================] - 0s 68ms/step\n",
            "1/1 [==============================] - 0s 64ms/step\n",
            "1/1 [==============================] - 0s 59ms/step\n",
            "1/1 [==============================] - 0s 61ms/step\n",
            "1/1 [==============================] - 0s 58ms/step\n",
            "1/1 [==============================] - 0s 58ms/step\n",
            "1/1 [==============================] - 0s 57ms/step\n",
            "1/1 [==============================] - 0s 61ms/step\n",
            "1/1 [==============================] - 0s 61ms/step\n",
            "1/1 [==============================] - 0s 58ms/step\n",
            "1/1 [==============================] - 0s 60ms/step\n",
            "1/1 [==============================] - 0s 56ms/step\n",
            "1/1 [==============================] - 0s 63ms/step\n",
            "1/1 [==============================] - 0s 59ms/step\n",
            "1/1 [==============================] - 0s 61ms/step\n",
            "1/1 [==============================] - 0s 58ms/step\n",
            "1/1 [==============================] - 0s 61ms/step\n",
            "1/1 [==============================] - 0s 59ms/step\n",
            "1/1 [==============================] - 0s 58ms/step\n",
            "1/1 [==============================] - 0s 59ms/step\n",
            "1/1 [==============================] - 0s 57ms/step\n",
            "1/1 [==============================] - 0s 58ms/step\n",
            "1/1 [==============================] - 0s 58ms/step\n"
          ]
        }
      ]
    },
    {
      "cell_type": "code",
      "source": [
        "y_actual = np.array(y_actual)\n",
        "y_test = np.array(y_test)"
      ],
      "metadata": {
        "id": "inR0_VNSohgn"
      },
      "execution_count": null,
      "outputs": []
    },
    {
      "cell_type": "code",
      "source": [
        "from sklearn.metrics import confusion_matrix"
      ],
      "metadata": {
        "id": "7gll9Itaok75"
      },
      "execution_count": null,
      "outputs": []
    },
    {
      "cell_type": "code",
      "source": [
        "cm = confusion_matrix(y_actual,y_test)"
      ],
      "metadata": {
        "id": "5Yja939WoqH_"
      },
      "execution_count": null,
      "outputs": []
    },
    {
      "cell_type": "code",
      "source": [
        "import seaborn as sns"
      ],
      "metadata": {
        "id": "b3XQ9le2os8Z"
      },
      "execution_count": null,
      "outputs": []
    },
    {
      "cell_type": "code",
      "source": [
        "# sns.heatmap(cm,cmap = \"plasma\" , annot=True)"
      ],
      "metadata": {
        "id": "-Ej11mmhouQ8"
      },
      "execution_count": null,
      "outputs": []
    },
    {
      "cell_type": "code",
      "source": [
        "import itertools\n",
        "import numpy as np\n",
        "import matplotlib.pyplot as plt\n",
        "from sklearn.metrics import confusion_matrix\n",
        "class_names = [\"Covid-19\",\"Normal\"]\n",
        "\n",
        "def plot_confusion_matrix(cm, classes,\n",
        "                          normalize=False,\n",
        "                          title='Confusion matrix',\n",
        "                          cmap=\"plasma\"):\n",
        "    \"\"\"\n",
        "    This function prints and plots the confusion matrix.\n",
        "    Normalization can be applied by setting `normalize=True`.\n",
        "    \"\"\"\n",
        "    plt.imshow(cm, interpolation='nearest', cmap=cmap)\n",
        "    plt.title(title)\n",
        "    plt.colorbar()\n",
        "    tick_marks = np.arange(len(classes))\n",
        "    plt.xticks(tick_marks, classes, rotation=45)\n",
        "    plt.yticks(tick_marks, classes)\n",
        "\n",
        "    if normalize:\n",
        "        cm = cm.astype('float') / cm.sum(axis=1)[:, np.newaxis]\n",
        "        print(\"Normalized confusion matrix\")\n",
        "    else:\n",
        "        print('Confusion matrix, without normalization')\n",
        "\n",
        "    print(cm)\n",
        "\n",
        "    thresh = cm.max() / 2.\n",
        "    for i, j in itertools.product(range(cm.shape[0]), range(cm.shape[1])):\n",
        "        plt.text(j, i, cm[i, j],\n",
        "                 horizontalalignment=\"center\",\n",
        "                 color=\"white\" if cm[i, j] > thresh else \"black\")\n",
        "\n",
        "    plt.tight_layout()\n",
        "    plt.ylabel('True label')\n",
        "    plt.xlabel('Predicted label')"
      ],
      "metadata": {
        "id": "EJKAL-hHowyz"
      },
      "execution_count": null,
      "outputs": []
    },
    {
      "cell_type": "code",
      "source": [
        "plt.figure()\n",
        "plot_confusion_matrix(cm, classes=class_names,\n",
        "                      title='Confusion matrix for Covid-19 Detection',cmap=\"plasma\")"
      ],
      "metadata": {
        "colab": {
          "base_uri": "https://localhost:8080/",
          "height": 363
        },
        "id": "c6axuoHWo1DT",
        "outputId": "3b3f90f3-c2a7-4a6e-c955-d13f687ea7be"
      },
      "execution_count": null,
      "outputs": [
        {
          "output_type": "stream",
          "name": "stdout",
          "text": [
            "Confusion matrix, without normalization\n",
            "[[30  0]\n",
            " [ 1 29]]\n"
          ]
        },
        {
          "output_type": "display_data",
          "data": {
            "text/plain": [
              "<Figure size 432x288 with 2 Axes>"
            ],
            "image/png": "[encoded data removed]"
          },
          "metadata": {
            "needs_background": "light"
          }
        }
      ]
    },
    {
      "cell_type": "code",
      "source": [
        "history = hist\n",
        "print(history.history.keys())"
      ],
      "metadata": {
        "colab": {
          "base_uri": "https://localhost:8080/"
        },
        "id": "oesO7Nxmo64v",
        "outputId": "6b122762-58cc-4489-911d-01ceababd23e"
      },
      "execution_count": null,
      "outputs": [
        {
          "output_type": "stream",
          "name": "stdout",
          "text": [
            "dict_keys(['loss', 'accuracy', 'val_loss', 'val_accuracy'])\n"
          ]
        }
      ]
    },
    {
      "cell_type": "code",
      "source": [
        "plt.plot(history.history['accuracy'])\n",
        "print(history.history['accuracy'])\n",
        "plt.plot(history.history['val_accuracy'])\n",
        "plt.title('model accuracy')\n",
        "plt.ylabel('accuracy')\n",
        "plt.xlabel('epoch')\n",
        "plt.legend(['train', 'test'], loc='upper left')\n",
        "plt.show()"
      ],
      "metadata": {
        "colab": {
          "base_uri": "https://localhost:8080/",
          "height": 312
        },
        "id": "5CKIu2Geo_F1",
        "outputId": "5b6ea401-0aab-4a15-e4b2-89f9fcc67ebe"
      },
      "execution_count": 37,
      "outputs": [
        {
          "output_type": "stream",
          "name": "stdout",
          "text": [
            "[0.58984375, 0.72265625, 0.88671875, 0.890625, 0.90234375, 0.8984375, 0.90234375, 0.90625, 0.94921875, 0.94140625]\n"
          ]
        },
        {
          "output_type": "display_data",
          "data": {
            "text/plain": [
              "<Figure size 432x288 with 1 Axes>"
            ],
            "image/png": "[encoded data removed]"
          },
          "metadata": {
            "needs_background": "light"
          }
        }
      ]
    },
    {
      "cell_type": "code",
      "source": [
        "plt.plot(history.history['loss'])\n",
        "plt.plot(history.history['val_loss'])\n",
        "plt.title('model loss')\n",
        "plt.ylabel('loss')\n",
        "plt.xlabel('epoch')\n",
        "plt.legend(['train', 'test'], loc='upper left')\n",
        "plt.show()"
      ],
      "metadata": {
        "colab": {
          "base_uri": "https://localhost:8080/",
          "height": 295
        },
        "id": "LZaQqVgjpbSu",
        "outputId": "58d01d4b-8def-40a5-fb74-a9672d8bd9f0"
      },
      "execution_count": null,
      "outputs": [
        {
          "output_type": "display_data",
          "data": {
            "text/plain": [
              "<Figure size 432x288 with 1 Axes>"
            ],
            "image/png": "[encoded data removed]"
          },
          "metadata": {
            "needs_background": "light"
          }
        }
      ]
    },
    {
      "cell_type": "code",
      "source": [
        "import numpy as np\n",
        "# from google.colab.patches import cv2_imshow\n",
        "import cv2\n",
        "from keras.preprocessing import image\n",
        "xtest_image =load_img('/content/Dataset/Prediction/ryct.2020200034.fig5-day7.jpeg', target_size = (224, 224))\n",
        "xtest_image =img_to_array(xtest_image)\n",
        "xtest_image = np.expand_dims(xtest_image, axis = 0)\n",
        "results = model.predict(xtest_image)\n",
        "# training_set.class_indices\n",
        "imggg = cv2.imread('Dataset/Prediction/ryct.2020200034.fig5-day7.jpeg')\n",
        "print(\"This Xray Image is of positive covid-19 patient\")\n",
        "imggg = np.array(imggg)\n",
        "imggg = cv2.resize(imggg,(400,400))\n",
        "plt.imshow(imggg)\n",
        "# cv2_imshow(imggg)\n",
        "# print(results)\n",
        "if results[0][0] == 0:\n",
        "    prediction = 'Positive For Covid-19'\n",
        "else:\n",
        "    prediction = 'Negative for Covid-19'\n",
        "print(\"Prediction Of Our Model : \",prediction)"
      ],
      "metadata": {
        "colab": {
          "base_uri": "https://localhost:8080/",
          "height": 321
        },
        "id": "GT8DdPv6pf3N",
        "outputId": "8bf8081b-b7d3-473d-cb7d-2d9ed7c2ccd1"
      },
      "execution_count": null,
      "outputs": [
        {
          "output_type": "stream",
          "name": "stdout",
          "text": [
            "1/1 [==============================] - 0s 62ms/step\n",
            "This Xray Image is of positive covid-19 patient\n",
            "Prediction Of Our Model :  Positive For Covid-19\n"
          ]
        },
        {
          "output_type": "display_data",
          "data": {
            "text/plain": [
              "<Figure size 432x288 with 1 Axes>"
            ],
            "image/png": "[encoded data removed]"
          },
          "metadata": {
            "needs_background": "light"
          }
        }
      ]
    },
    {
      "cell_type": "code",
      "source": [
        "import numpy as np\n",
        "# from google.colab.patches import cv2_imshow\n",
        "from keras.preprocessing import image\n",
        "xtest_image = load_img('/content/Dataset/Prediction/NORMAL2-IM-0354-0001.jpeg', target_size = (224, 224))\n",
        "xtest_image = img_to_array(xtest_image)\n",
        "xtest_image = np.expand_dims(xtest_image, axis = 0)\n",
        "results = model.predict(xtest_image)\n",
        "# training_set.class_indices\n",
        "\n",
        "imggg = cv2.imread('Dataset/Prediction/NORMAL2-IM-0354-0001.jpeg')\n",
        "print(\"This Xray Image is of Negative covid-19 patient\")\n",
        "imggg = np.array(imggg)\n",
        "imggg = cv2.resize(imggg,(400,400))\n",
        "\n",
        "plt.imshow(imggg)\n",
        "# cv2_imshow(imggg)\n",
        "# print(results)\n",
        "if results[0][0] == 0:\n",
        "    prediction = 'Positive For Covid-19'\n",
        "else:\n",
        "    prediction = 'Negative for Covid-19'\n",
        "print(\"Prediction Of Our Model : \",prediction)"
      ],
      "metadata": {
        "colab": {
          "base_uri": "https://localhost:8080/",
          "height": 321
        },
        "id": "-NWW1k9uqNRP",
        "outputId": "7a261c99-b118-41d8-bf96-d3d26167948f"
      },
      "execution_count": null,
      "outputs": [
        {
          "output_type": "stream",
          "name": "stdout",
          "text": [
            "1/1 [==============================] - 0s 61ms/step\n",
            "This Xray Image is of Negative covid-19 patient\n",
            "Prediction Of Our Model :  Negative for Covid-19\n"
          ]
        },
        {
          "output_type": "display_data",
          "data": {
            "text/plain": [
              "<Figure size 432x288 with 1 Axes>"
            ],
            "image/png": "[encoded data removed]"
          },
          "metadata": {
            "needs_background": "light"
          }
        }
      ]
    }
  ]
}